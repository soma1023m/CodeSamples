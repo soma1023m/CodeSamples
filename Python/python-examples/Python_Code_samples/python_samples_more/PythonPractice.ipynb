{
 "cells": [
  {
   "cell_type": "markdown",
   "id": "05139aff",
   "metadata": {},
   "source": [
    "# Test ETL"
   ]
  },
  {
   "cell_type": "code",
   "execution_count": 4,
   "id": "be8cd173",
   "metadata": {},
   "outputs": [
    {
     "name": "stdout",
     "output_type": "stream",
     "text": [
      "Collecting package metadata (current_repodata.json): ...working... done\n",
      "Solving environment: ...working... done\n",
      "\n",
      "# All requested packages already installed.\n",
      "\n",
      "Retrieving notices: ...working... done\n"
     ]
    }
   ],
   "source": [
    "!conda install -y -q petl"
   ]
  },
  {
   "cell_type": "code",
   "execution_count": 14,
   "id": "d0210e8b",
   "metadata": {},
   "outputs": [
    {
     "name": "stdout",
     "output_type": "stream",
     "text": [
      "Collecting package metadata (current_repodata.json): ...working... done\n",
      "Solving environment: ...working... done\n",
      "\n",
      "## Package Plan ##\n",
      "\n",
      "  environment location: C:\\Users\\2006s\\anaconda3\n",
      "\n",
      "  added / updated specs:\n",
      "    - pymysql\n",
      "\n",
      "\n",
      "The following packages will be downloaded:\n",
      "\n",
      "    package                    |            build\n",
      "    ---------------------------|-----------------\n",
      "    pymysql-1.0.2              |   py39haa95532_1          77 KB\n",
      "    ------------------------------------------------------------\n",
      "                                           Total:          77 KB\n",
      "\n",
      "The following NEW packages will be INSTALLED:\n",
      "\n",
      "  pymysql            pkgs/main/win-64::pymysql-1.0.2-py39haa95532_1 None\n",
      "\n",
      "\n",
      "Preparing transaction: ...working... done\n",
      "Verifying transaction: ...working... done\n",
      "Executing transaction: ...working... done\n",
      "Retrieving notices: ...working... done\n"
     ]
    }
   ],
   "source": [
    "!conda install -y -q pymysql"
   ]
  },
  {
   "cell_type": "code",
   "execution_count": 1,
   "id": "d46ed2cd",
   "metadata": {},
   "outputs": [
    {
     "name": "stdout",
     "output_type": "stream",
     "text": [
      "Collecting package metadata (current_repodata.json): ...working... done\n",
      "Solving environment: ...working... done\n",
      "\n",
      "# All requested packages already installed.\n",
      "\n",
      "Retrieving notices: ...working... done\n"
     ]
    }
   ],
   "source": [
    "!conda install -y -q pymssql"
   ]
  },
  {
   "cell_type": "markdown",
   "id": "2a84b6c3",
   "metadata": {},
   "source": [
    "# Read Config Files and Sql Connection"
   ]
  },
  {
   "cell_type": "code",
   "execution_count": 15,
   "id": "555b00c4",
   "metadata": {},
   "outputs": [
    {
     "name": "stdout",
     "output_type": "stream",
     "text": [
      "Read File Success\n",
      "<configparser.ConfigParser object at 0x000001B1FFBB0D00>\n",
      "   Col1     Col2                Col3                Col4   Col5\n",
      "0     1  b'\\x00' 2022-09-23 17:03:33 2022-09-23 17:03:33   Soma\n",
      "1     2  b'\\x01' 2022-09-23 17:04:20 2022-09-23 17:04:20  Soma2\n"
     ]
    }
   ],
   "source": [
    "#portable way of using operating system-dependent functionality like currentDirectory\n",
    "import os\n",
    "#This module provides access to some variables used or maintained by the interpreter and to functions that interact strongly with the interpreter. It is always available.\n",
    "import sys\n",
    "#is a general purpose Python package for extracting, transforming and loading tables of data.\n",
    "import petl\n",
    "#The pymssql.connect function is used to connect to SQL Database.\n",
    "import pymssql\n",
    "#The pymssql.connect function is used to connect to SQL Database.\n",
    "import pymysql\n",
    "#As you can see, we can treat a config parser much like a dictionary. There are differences, outlined later, but the behavior is very close to what you would expect from a dictionary.\n",
    "import configparser\n",
    "#The requests module allows you to send HTTP requests using Python.\n",
    "import requests\n",
    "import datetime\n",
    "import json\n",
    "#decimal — Decimal fixed point and floating point arithmetic\n",
    "import decimal\n",
    "# Import math Library\n",
    "import math\n",
    "# Import pandas Library\n",
    "import pandas as pd\n",
    "#import numpy as np\n",
    "import numpy as np\n",
    "\n",
    "\n",
    "#get Data from Configuration File\n",
    "config=configparser.ConfigParser()\n",
    "try:\n",
    "    config.read('ETLDemo.ini')\n",
    "    print(\"Read File Success\")\n",
    "except Exception as e:\n",
    "    print(\"Could not finf=d The config file\")\n",
    "    sys.exit()\n",
    "#read data from config files and store in variables.\n",
    "print(config)\n",
    "startDate = config[\"CONFIG\"][\"startDate\"]\n",
    "url = config['CONFIG']['url']\n",
    "server = config['CONFIG']['server']\n",
    "database = config['CONFIG']['database'] \n",
    "host =config['DB']['host']\n",
    "user=config['DB']['user']\n",
    "password=config['DB']['password']\n",
    "dbName=config['DB']['db']\n",
    "\n",
    "\n",
    "\n",
    "#for key in config['DB']:  \n",
    "   #print(key)\n",
    "   #print(config['DB'][key])\n",
    "   #configDict[key]=config['DB'][key]\n",
    "\n",
    "def mysqlconnect():\n",
    "    # To connect MySQL database\n",
    "    conn = pymysql.connect(\n",
    "        host=host,\n",
    "        user=user, \n",
    "        password = password,\n",
    "        db=dbName,\n",
    "        )\n",
    "    my_list = list()  \n",
    "    cur = conn.cursor()\n",
    "    cur.execute(\"SELECT * FROM shoppingcart.shopping_cart_user;\")\n",
    "    output = cur.fetchall()\n",
    "   \n",
    "    for rowItem in output:\n",
    "        #Adding rowItems To Dict\n",
    "        my_list.append(rowItem)\n",
    "        \n",
    "    # To close the connection\n",
    "    conn.close()   \n",
    "    return my_list\n",
    "\n",
    "def createPandaDataFrame(resultSet):\n",
    "    df=pd.DataFrame(resultSet, columns =['Col1', 'Col2', 'Col3','Col4','Col5'])\n",
    "    print(df)\n",
    "    \n",
    "def createPandaModifiedCsv(inputFileName,outputFileName): \n",
    "    filename = os.path.join(os.getcwd(), inputFileName)\n",
    "    df = pd.read_csv(filename)\n",
    "    print(df.to_string)\n",
    "    \n",
    "        \n",
    "def main():   \n",
    "    resultSet=mysqlconnect()\n",
    "    createPandaDataFrame(resultSet)    \n",
    "    \n",
    "if __name__ == \"__main__\":\n",
    "    main()\n",
    "\n"
   ]
  },
  {
   "cell_type": "markdown",
   "id": "1e8f2b82",
   "metadata": {},
   "source": [
    "# Panda to Modify CSV"
   ]
  },
  {
   "cell_type": "code",
   "execution_count": 215,
   "id": "4560590c",
   "metadata": {},
   "outputs": [
    {
     "name": "stdout",
     "output_type": "stream",
     "text": [
      "{0: {'Agency_Name': 'A', 'Cardholder_Last_Name': 'Mason', 'Amount': 890.0, 'Amount_Exceeded': 'Yes'}, 1: {'Agency_Name': 'B', 'Cardholder_Last_Name': 'Mason', 'Amount': 368.96, 'Amount_Exceeded': 'Yes'}, 2: {'Agency_Name': 'C', 'Cardholder_Last_Name': 'JK', 'Amount': 165.82, 'Amount_Exceeded': 'Yes'}}\n",
      "{0: {'Agency_Name': 'D', 'Cardholder_Last_Name': 'HRL', 'Amount': 96.39, 'Amount_Exceeded': 'No'}, 1: {'Agency_Name': 'B', 'Cardholder_Last_Name': 'Mason', 'Amount': 368.96, 'Amount_Exceeded': 'Yes'}, 2: {'Agency_Name': 'C', 'Cardholder_Last_Name': 'JK', 'Amount': 165.82, 'Amount_Exceeded': 'Yes'}}\n"
     ]
    }
   ],
   "source": [
    "#portable way of using operating system-dependent functionality like currentDirectory\n",
    "import os\n",
    "#This module provides access to some variables used or maintained by the interpreter and to functions that interact strongly with the interpreter. It is always available.\n",
    "import sys\n",
    "import datetime\n",
    "import json\n",
    "#decimal — Decimal fixed point and floating point arithmetic\n",
    "import decimal\n",
    "# Import math Library\n",
    "import math\n",
    "# Import pandas Library\n",
    "import pandas as pd\n",
    "#import numpy as np\n",
    "import numpy as np\n",
    "def createPandaModifiedCsv(inputFileName,outputFileName): \n",
    "    filename = os.path.join(os.getcwd(), inputFileName)   \n",
    "    col_list = [\"Agency_Name\",\"Cardholder_Last_Name\",\"Amount\"]    \n",
    "    #reader=pd.read_csv(filename, chunksize=2 ,usecols=col_list,iterator=True)  \n",
    "      \n",
    "    df2=pd.DataFrame(columns=[\"Agency_Name\",\"Cardholder_Last_Name\",\"Amount\",\"Amount_Exceeded\"])\n",
    "    dictOne=dict()\n",
    "    dictIndex=0;\n",
    "   \n",
    "   \n",
    "    for chunk in pd.read_csv(filename, chunksize=3 ,usecols=col_list,iterator=True):\n",
    "        processChunk(chunk,dictOne,dictIndex)\n",
    "        print(dictOne)     \n",
    "    \n",
    "    \n",
    "    #df2.append(dfManipulated)\n",
    "def processChunk(chunk,dictOne,dictIndex):    \n",
    "    for row in chunk.itertuples(name=\"SampleRow\",index=True):\n",
    "        amount_Exceeded=\"Yes\" if row.Amount>100 else \"No\"        \n",
    "        dictOne[dictIndex]={\"Agency_Name\":row.Agency_Name, \"Cardholder_Last_Name\":row.Cardholder_Last_Name, \"Amount\":row.Amount,\"Amount_Exceeded\":amount_Exceeded}\n",
    "        dictIndex =dictIndex+1\n",
    "    return dictOne  \n",
    "        \n",
    "        \n",
    "       \n",
    "  \n",
    "    \n",
    "    \n",
    "        \n",
    "def main(): \n",
    "    createPandaModifiedCsv(\"card-spend-fiscalyear-2014-small3.csv\",\"card-spend-fiscalyear-2014-out.csv\")\n",
    "    \n",
    "if __name__ == \"__main__\":\n",
    "    main()\n",
    "\n",
    "    "
   ]
  },
  {
   "cell_type": "code",
   "execution_count": 41,
   "id": "575b9bb4",
   "metadata": {},
   "outputs": [
    {
     "name": "stdout",
     "output_type": "stream",
     "text": [
      "4\n",
      "2\n",
      "1\n",
      "2\n",
      "3\n",
      "4\n",
      "7\n",
      "5\n",
      "7\n",
      "9\n",
      "6\n"
     ]
    }
   ],
   "source": [
    "#is ordered\n",
    "mytuple =(1,2,3,4,7,5,7,9,6)\n",
    "print(mytuple[3])\n",
    "print(mytuple.count(7))\n",
    "for i in mytuple:\n",
    "        print(i)\n",
    "\n"
   ]
  },
  {
   "cell_type": "code",
   "execution_count": 11,
   "id": "bba1ae5d",
   "metadata": {},
   "outputs": [
    {
     "name": "stdout",
     "output_type": "stream",
     "text": [
      "[1, 2, 3, 4, 7, 5, 9, 6]\n",
      "[1, 2, 3, 4, 7, 5, 9]\n"
     ]
    }
   ],
   "source": [
    "#is ordered\n",
    "myList= [1,2,3,4,7,5,9,6]\n",
    "print(myList)\n",
    "myList.pop()\n",
    "print(myList)"
   ]
  },
  {
   "cell_type": "code",
   "execution_count": 173,
   "id": "d3b8c505",
   "metadata": {},
   "outputs": [
    {
     "name": "stdout",
     "output_type": "stream",
     "text": [
      "[10, 9, 56, 10, 34, 9, 8, 2, 3, 56, 24]\n",
      "{34, 2, 3, 8, 9, 10, 56, 24}\n",
      "{34, 2, 3, 4, 8, 9, 10, 56, 24}\n",
      "{2, 3, 4, 8, 9, 10, 56, 24}\n",
      "2\n",
      "3\n",
      "4\n",
      "8\n",
      "9\n",
      "10\n",
      "56\n",
      "24\n"
     ]
    }
   ],
   "source": [
    "#is not ordered-always sorted without duplicates\n",
    "\n",
    "myList=[10,9,56,10,34,9,8,2,3,56]\n",
    "myList.append(24)\n",
    "print(myList)\n",
    "mySet={x for x in myList}\n",
    "print(mySet)\n",
    "mySet.add(4)\n",
    "print(mySet)\n",
    "mySet.pop()\n",
    "print(mySet)\n",
    "for item in mySet:\n",
    "    print(item)"
   ]
  },
  {
   "cell_type": "code",
   "execution_count": 69,
   "id": "2bf1f4a2",
   "metadata": {},
   "outputs": [
    {
     "name": "stdout",
     "output_type": "stream",
     "text": [
      "Age\n",
      "10\n",
      "Name\n",
      "T\n",
      "Add\n",
      "[10, 45]\n",
      "Num\n",
      "[23, 34, 56]\n",
      "Age\n",
      "10\n",
      "Name\n",
      "T\n",
      "Add\n",
      "[10, 45]\n",
      "Num\n",
      "[23, 34, 56]\n"
     ]
    }
   ],
   "source": [
    "#is not ordered-always sorted without duplicates\n",
    "myDict={\"Age\":10,\"Name\":\"T\",\"Add\":[10,45],\"Num\":[23,34,56]}\n",
    "for key in myDict:\n",
    "    print(key)\n",
    "    print(myDict[key])\n",
    "for k,v in myDict.items():\n",
    "    print(k)\n",
    "    print(v)"
   ]
  },
  {
   "cell_type": "code",
   "execution_count": 73,
   "id": "4d1d5b06",
   "metadata": {},
   "outputs": [
    {
     "name": "stdout",
     "output_type": "stream",
     "text": [
      "[6, 9, 5, 7, 44, 33, 22, 56]\n",
      "[(6, 56), (6, 22), (6, 33), (6, 44), (6, 7), (6, 5), (6, 9), (6, 6), (9, 56), (9, 22), (9, 33), (9, 44), (9, 7), (9, 5), (9, 9), (9, 6), (5, 56), (5, 22), (5, 33), (5, 44), (5, 7), (5, 5), (5, 9), (5, 6), (7, 56), (7, 22), (7, 33), (7, 44), (7, 7), (7, 5), (7, 9), (7, 6), (4, 56), (4, 22), (4, 33), (4, 44), (4, 7), (4, 5), (4, 9), (4, 6), (3, 56), (3, 22), (3, 33), (3, 44), (3, 7), (3, 5), (3, 9), (3, 6), (2, 56), (2, 22), (2, 33), (2, 44), (2, 7), (2, 5), (2, 9), (2, 6), (1, 56), (1, 22), (1, 33), (1, 44), (1, 7), (1, 5), (1, 9), (1, 6)]\n",
      "2022-10-06 16:03:43.857867\n"
     ]
    }
   ],
   "source": [
    "import datetime as dt\n",
    "myList= [1,2,3,4,7,5,9,6]\n",
    "myList2=[56,22,33,44,7,5,9,6]\n",
    "myList3=list(reversed(myList2))\n",
    "myList.reverse()\n",
    "print(myList3)\n",
    "list_d = [(p1, p2) for p1 in myList for p2 in myList2]\n",
    "print(list_d)\n",
    "nowTime= dt.datetime.today()\n",
    "print(nowTime)"
   ]
  },
  {
   "cell_type": "code",
   "execution_count": 151,
   "id": "6aa10dde",
   "metadata": {},
   "outputs": [
    {
     "name": "stdout",
     "output_type": "stream",
     "text": [
      "{'Canteen1': (10, 100), 'Canteen2': (40, 80), 'Canteen3': (20, 400)}\n",
      "[('Canteen2', (40, 80)), ('Canteen3', (20, 400)), ('Canteen1', (10, 100))]\n",
      "[('Canteen3', (20, 400)), ('Canteen1', (10, 100)), ('Canteen2', (40, 80))]\n",
      "C:\\Users\\2006s\\MyPythonSamples\\test.py\n",
      "C:\\Users\\2006s\\MyPythonSamples\\test.py\n",
      "C:\\Users\\2006s\\MyPythonSamples\\test.py\n"
     ]
    },
    {
     "ename": "NameError",
     "evalue": "name '__function__' is not defined",
     "output_type": "error",
     "traceback": [
      "\u001b[1;31m---------------------------------------------------------------------------\u001b[0m",
      "\u001b[1;31mNameError\u001b[0m                                 Traceback (most recent call last)",
      "\u001b[1;32m~\\MyPythonSamples\\test.py\u001b[0m in \u001b[0;36m<module>\u001b[1;34m\u001b[0m\n\u001b[0;32m      4\u001b[0m \u001b[0mprint\u001b[0m\u001b[1;33m(\u001b[0m\u001b[0mPath\u001b[0m\u001b[1;33m(\u001b[0m\u001b[0m__file__\u001b[0m\u001b[1;33m)\u001b[0m\u001b[1;33m)\u001b[0m\u001b[1;33m\u001b[0m\u001b[1;33m\u001b[0m\u001b[0m\n\u001b[0;32m      5\u001b[0m \u001b[0mprint\u001b[0m\u001b[1;33m(\u001b[0m\u001b[0mPath\u001b[0m\u001b[1;33m(\u001b[0m\u001b[0m__file__\u001b[0m\u001b[1;33m)\u001b[0m\u001b[1;33m.\u001b[0m\u001b[0mresolve\u001b[0m\u001b[1;33m(\u001b[0m\u001b[1;33m)\u001b[0m\u001b[1;33m)\u001b[0m\u001b[1;33m\u001b[0m\u001b[1;33m\u001b[0m\u001b[0m\n\u001b[1;32m----> 6\u001b[1;33m \u001b[0mprint\u001b[0m\u001b[1;33m(\u001b[0m\u001b[0m__function__\u001b[0m\u001b[1;33m)\u001b[0m\u001b[1;33m\u001b[0m\u001b[1;33m\u001b[0m\u001b[0m\n\u001b[0m\u001b[0;32m      7\u001b[0m \u001b[0mprint\u001b[0m\u001b[1;33m(\u001b[0m\u001b[0m__name__\u001b[0m\u001b[1;33m)\u001b[0m\u001b[1;33m\u001b[0m\u001b[1;33m\u001b[0m\u001b[0m\n",
      "\u001b[1;31mNameError\u001b[0m: name '__function__' is not defined"
     ]
    }
   ],
   "source": [
    "def checkEvenNumbers():\n",
    "    myList= [1,2,3,4,7,5,9,6]\n",
    "    even_numbers = list(filter(lambda x: x % 2==0, myList))\n",
    "    odd_numbers = list(filter(lambda x: x % 2, myList))\n",
    "    print(even_numbers)\n",
    "    print(odd_numbers)\n",
    "def sortedKeys():\n",
    "    myDict={\"Canteen1\":(10,100),\"Canteen2\":(40,80),\"Canteen3\":(20,400)}\n",
    "    print(myDict)\n",
    "    sortOnMinPrice= sorted(myDict.items(),key=lambda kv:kv[1][0] ,reverse=True )\n",
    "    print(sortOnMinPrice)\n",
    "    sortOnMaxPrice= sorted(myDict.items(),key=lambda kv:kv[1][1] ,reverse=True )\n",
    "    print(sortOnMaxPrice)\n",
    "\n",
    "def main():\n",
    "    sortedKeys()\n",
    "    %run test.py    \n",
    "    \n",
    "    \n",
    "if __name__==\"__main__\":\n",
    "    main()"
   ]
  },
  {
   "cell_type": "code",
   "execution_count": 171,
   "id": "fda42ac2",
   "metadata": {},
   "outputs": [
    {
     "name": "stdout",
     "output_type": "stream",
     "text": [
      "1\n",
      "Hello\n",
      "ADD1\n",
      "24\n",
      "{'id': 1, 'name': 'Hello', 'address': 'ADD1', 'age': 24}\n",
      "Customer Class\n",
      "__main__\n",
      "<class '__main__.Customer'>\n",
      "<method-wrapper '__repr__' of Customer object at 0x0000013424D24A60>\n",
      "[1, 4, 3]\n",
      "[1, 3, 4]\n"
     ]
    }
   ],
   "source": [
    "class Customer:\n",
    "   #class level attributes must be immutable to make it unique\n",
    "    '''Customer Class'''\n",
    "    def __init__(self,id,name,address,age):\n",
    "        '''Init Function'''\n",
    "        self.id=id\n",
    "        self.name=name\n",
    "        self.address=address\n",
    "        self.age=age\n",
    "    def display(self):\n",
    "        '''Display Method'''\n",
    "        print(self.id)\n",
    "        print(self.name)\n",
    "        print(self.address)\n",
    "        print(self.age)\n",
    "    def __dir__(self):\n",
    "       # return[\"this\",\"is\",\"cat\"]\n",
    "        return[1,4,3]\n",
    "        \n",
    "cust1=Customer(1,\"Hello\",\"ADD1\",24)\n",
    "cust1.display()\n",
    "print(cust1.__dict__)\n",
    "print(cust1.__doc__)\n",
    "print(cust1.__module__)\n",
    "print(cust1.__class__)\n",
    "print(cust1.__repr__)\n",
    "print(cust1.__dir__())\n",
    "print(dir(cust1))\n",
    "\n",
    "\n"
   ]
  },
  {
   "cell_type": "markdown",
   "id": "70fcae26",
   "metadata": {},
   "source": [
    "# Context Manager"
   ]
  },
  {
   "cell_type": "code",
   "execution_count": 133,
   "id": "0f47b2e1",
   "metadata": {},
   "outputs": [
    {
     "name": "stdout",
     "output_type": "stream",
     "text": [
      "Enter File Name to Read:card-spend-fiscalyear-2014-small3.csv\n",
      "C:\\Users\\2006s\\MyPythonSamples\\card-spend-fiscalyear-2014-small3.csv\n",
      "Opened the File Resource\n",
      "fileR <_io.TextIOWrapper name='C:\\\\Users\\\\2006s\\\\MyPythonSamples\\\\card-spend-fiscalyear-2014-small3.csv' mode='r' encoding='cp1252'>\n",
      "line No  0 is: Agency_Name,Cardholder_Last_Name,Cardholder First Initial,Description,Amount,Vendor,Transaction Date,Posted Date,Merchant Category Code (MCC)\n",
      "\n",
      "line No  1 is: A,Mason,C,GENERAL PURCHASE,890,NACAS,7/30/2013 0:00,7/31/2013 0:00,CHARITABLE AND SOCIAL SERVICE ORGANIZATIONS\n",
      "\n",
      "line No  2 is: B,Mason,C,ROOM CHARGES,368.96,SHERATON HOTEL,7/30/2013 0:00,7/31/2013 0:00,SHERATON\n",
      "\n",
      "line No  3 is: C,JK,J,GENERAL PURCHASE,165.82,SEARS.COM 9300,7/29/2013 0:00,7/31/2013 0:00,DIRCT MARKETING/DIRCT MARKETERS--NOT ELSEWHERE CLASSIFIED\n",
      "\n",
      "line No  4 is: D,HRL,T,GENERAL PURCHASE,96.39,WAL-MART #0137,7/30/2013 0:00,7/31/2013 0:00,\"GROCERY STORES,AND SUPERMARKETS\"\n",
      "\n",
      "Execution Type: <class 'NoneType'> \n",
      "Execution Value: None \n",
      "ExecutionTraceback: None\n",
      "Closing the File Resource\n"
     ]
    }
   ],
   "source": [
    "class FileResource:\n",
    "    \n",
    "    def __init__(self,fileName,mode):\n",
    "        self.fileName=fileName\n",
    "        self.mode=mode\n",
    "        self.file=None#File Handle\n",
    "        \n",
    "    def __enter__(self):\n",
    "        self.file=open(self.fileName,self.mode)\n",
    "        print(\"Opened the File Resource\")\n",
    "        return self.file\n",
    "    \n",
    "    def __repr__(self):#To  represent the instance of a class in string\n",
    "        return f\"ReprExample(a={self.fileName}, b={self.mode})\"\n",
    "        \n",
    "    def __exit__(self,exc_type,exc_value,exc_traceback):\n",
    "        print(\"Execution Type:\",type(exc_type),\"\\nExecution Value:\",exc_value,\"\\nExecutionTraceback:\",exc_traceback)\n",
    "        print(\"Closing the File Resource\")\n",
    "        self.file.close()\n",
    "\n",
    "import os  \n",
    "theFile=input(\"Enter File Name to Read:\")\n",
    "#\"card-spend-fiscalyear-2014-small3.csv\"\n",
    "filename = os.path.join(os.getcwd(), theFile)\n",
    "print(filename)\n",
    "indexNo=0\n",
    "with FileResource(filename,\"r\") as fileR: \n",
    "    print(\"fileR\",fileR)\n",
    "    for line in fileR:\n",
    "        if line:\n",
    "                print(\"line No \",indexNo,\"is:\",line)\n",
    "                indexNo=indexNo+1\n",
    "        else:\n",
    "                break  # Ignore rest of input file.\n",
    "        \n",
    "    "
   ]
  },
  {
   "cell_type": "code",
   "execution_count": null,
   "id": "6f6993db",
   "metadata": {},
   "outputs": [],
   "source": [
    "#The __add__ method is used to add two object’s attributes\n",
    "#The __getitem__ and __setitem__ methods are used to set and get the items of an object’s container attributes\n",
    "#The __repr__ method is used to print the object as a string\n",
    "#The __len__ method is used to find the length of the object’s attributes\n",
    "#__lt__, __gt__, __le__, __ge__, __eq__, and __ne__ methods are used for comparison of object’s attributes\n",
    "#__contains__ method is used for membership validation\n",
    "#__enter__ and __exit__ methods are used with the ‘with’ block in the python\n",
    "#__call__ method is used to use the object as a method.\n",
    "#__iter__ method is used to generate generator objects using the object\n",
    "#https://www.analyticsvidhya.com/blog/2021/08/explore-the-magic-methods-in-python/"
   ]
  },
  {
   "cell_type": "code",
   "execution_count": 156,
   "id": "cbd22bba",
   "metadata": {},
   "outputs": [
    {
     "name": "stdout",
     "output_type": "stream",
     "text": [
      "C:\\Users\\2006s\\MyPythonSamples\\test.py\n",
      "C:\\Users\\2006s\\MyPythonSamples\\test.py\n",
      "C:\\Users\\2006s\\MyPythonSamples\\test.py\n"
     ]
    },
    {
     "ename": "NameError",
     "evalue": "name '__function__' is not defined",
     "output_type": "error",
     "traceback": [
      "\u001b[1;31m---------------------------------------------------------------------------\u001b[0m",
      "\u001b[1;31mNameError\u001b[0m                                 Traceback (most recent call last)",
      "\u001b[1;32m~\\MyPythonSamples\\test.py\u001b[0m in \u001b[0;36m<module>\u001b[1;34m\u001b[0m\n\u001b[0;32m      5\u001b[0m \u001b[0mprint\u001b[0m\u001b[1;33m(\u001b[0m\u001b[0mPath\u001b[0m\u001b[1;33m(\u001b[0m\u001b[0m__file__\u001b[0m\u001b[1;33m)\u001b[0m\u001b[1;33m)\u001b[0m\u001b[1;33m\u001b[0m\u001b[1;33m\u001b[0m\u001b[0m\n\u001b[0;32m      6\u001b[0m \u001b[0mprint\u001b[0m\u001b[1;33m(\u001b[0m\u001b[0mPath\u001b[0m\u001b[1;33m(\u001b[0m\u001b[0m__file__\u001b[0m\u001b[1;33m)\u001b[0m\u001b[1;33m.\u001b[0m\u001b[0mresolve\u001b[0m\u001b[1;33m(\u001b[0m\u001b[1;33m)\u001b[0m\u001b[1;33m)\u001b[0m\u001b[1;33m\u001b[0m\u001b[1;33m\u001b[0m\u001b[0m\n\u001b[1;32m----> 7\u001b[1;33m \u001b[0mprint\u001b[0m\u001b[1;33m(\u001b[0m\u001b[0m__function__\u001b[0m\u001b[1;33m)\u001b[0m\u001b[1;33m\u001b[0m\u001b[1;33m\u001b[0m\u001b[0m\n\u001b[0m\u001b[0;32m      8\u001b[0m \u001b[0mprint\u001b[0m\u001b[1;33m(\u001b[0m\u001b[0m__name__\u001b[0m\u001b[1;33m)\u001b[0m\u001b[1;33m\u001b[0m\u001b[1;33m\u001b[0m\u001b[0m\n\u001b[0;32m      9\u001b[0m \u001b[1;33m\u001b[0m\u001b[0m\n",
      "\u001b[1;31mNameError\u001b[0m: name '__function__' is not defined"
     ]
    }
   ],
   "source": [
    "# %load test.py\n",
    "%run test.py"
   ]
  },
  {
   "cell_type": "code",
   "execution_count": 37,
   "id": "ec24f8cc",
   "metadata": {},
   "outputs": [
    {
     "name": "stdout",
     "output_type": "stream",
     "text": [
      "[3, 4]\n",
      "[50, 70, 30, 20, 90, 10, 50]\n",
      "[20, 90, 10]\n",
      "[30, 90, 50]\n",
      "[]\n",
      "[2, 1, [3, 4, 5], [6, 7, 8]]\n",
      "2\n",
      "1\n",
      "[3, 4, 5]\n",
      "[6, 7, 8]\n",
      "[2, 1, [3, 4, 5]]\n",
      "*****************\n",
      "True\n",
      "{1, 2, 3, 4}\n",
      "1\n",
      "2\n",
      "3\n",
      "4\n",
      "{2, 3, 4}\n",
      "*****************\n"
     ]
    }
   ],
   "source": [
    "x=[1,2,3,4,5,6,7,8,9,10]\n",
    "y=x[2:4]# start at index 2 end at index 4-1\n",
    "print(y)\n",
    "\n",
    "# Initialize list\n",
    "Lst = [50, 70, 30, 20, 90, 10, 50]\n",
    " \n",
    "# Display list\n",
    "print(Lst[-7::1])\n",
    "print(Lst[-4:-1])# 4th index from last to -1-1=-2 index Note backward index starts at -1 and not 0\n",
    "print(Lst[-5::2])\n",
    "\n",
    "lst2=[1,2,3,4,5,6,7,8]\n",
    "print(lst2[-1:2:2])\n",
    "\n",
    "ln= list()\n",
    "st= set()\n",
    "#di= dict()\n",
    "ln.insert(0,1)\n",
    "ln.insert(0,2)\n",
    "ln.append([3,4,5])\n",
    "ln.append([6,7,8])\n",
    "print(ln)\n",
    "for item in ln:\n",
    "    print(item)\n",
    "ln.pop()\n",
    "print(ln)\n",
    "print(\"*****************\")\n",
    "st2={1,2,3,4}\n",
    "st.add(1)\n",
    "st.add(2)\n",
    "st.add(3)\n",
    "st.add(4)\n",
    "st.add(1)\n",
    "print(st.issubset(st2))\n",
    "\n",
    "print(st)\n",
    "for item in st:\n",
    "    print(item)\n",
    "st.pop()\n",
    "print(st)\n",
    "print(\"*****************\")\n",
    "\n"
   ]
  },
  {
   "cell_type": "code",
   "execution_count": 41,
   "id": "f4f1510b",
   "metadata": {},
   "outputs": [
    {
     "name": "stdout",
     "output_type": "stream",
     "text": [
      "deque(['name', 'age', 'DOB'])\n",
      "deque(['hello', 'name', 'age', 'DOB'])\n",
      "None\n"
     ]
    }
   ],
   "source": [
    "from collections import deque\n",
    "     \n",
    "# Declaring deque\n",
    "queue = deque(['name','age','DOB']) \n",
    "     \n",
    "print(queue)\n",
    "queue.appendleft(\"hello\")\n",
    "print(queue)\n",
    "queue.rotate()\n",
    "print(queue)"
   ]
  },
  {
   "cell_type": "code",
   "execution_count": null,
   "id": "4571b4fd",
   "metadata": {},
   "outputs": [],
   "source": [
    "# Python program to read an excel file\n",
    "#Use following command to install from anaconda\n",
    "#conda install -c anaconda openpyxl\n",
    "# import openpyxl module\n",
    "import openpyxl\n",
    "\n",
    "# Give the location of the file\n",
    "path = \"test_excel.xlsx\"\n",
    "\n",
    "# To open the workbook\n",
    "# workbook object is created\n",
    "wb_obj = openpyxl.load_workbook(path)\n",
    "\n",
    "# Get workbook active sheet object\n",
    "# from the active attribute\n",
    "sheet_obj = wb_obj.active\n",
    "\n",
    "# Getting the value of maximum rows\n",
    "# and column\n",
    "row = sheet_obj.max_row\n",
    "column = sheet_obj.max_column\n",
    "\n",
    "print(\"Total Rows:\", row)\n",
    "print(\"Total Columns:\", column)\n",
    "\n",
    "# printing the value of first column\n",
    "# Loop will print all values\n",
    "# of first column\n",
    "print(\"\\nValue of first column\")\n",
    "for i in range(1, row + 1):\n",
    "\tcell_obj = sheet_obj.cell(row = i, column = 1)\n",
    "\tprint(cell_obj.value)\n",
    "\t\n",
    "# printing the value of first column\n",
    "# Loop will print all values\n",
    "# of first row\n",
    "print(\"\\nValue of first row\")\n",
    "for i in range(1, column + 1):\n",
    "\tcell_obj = sheet_obj.cell(row = 2, column = i)\n",
    "\tprint(cell_obj.value, end = \" \")"
   ]
  },
  {
   "cell_type": "code",
   "execution_count": 55,
   "id": "32247359",
   "metadata": {},
   "outputs": [
    {
     "name": "stdout",
     "output_type": "stream",
     "text": [
      "{\n",
      "    \"Name\": \"Soma\",\n",
      "    \"Age\": 30,\n",
      "    \"Sex\": \"Female\"\n",
      "}\n",
      "{'name': 'John', 'age': 30, 'city': 'New York'}\n",
      "name\n",
      "John\n",
      "age\n",
      "30\n",
      "city\n",
      "New York\n",
      "name : John\n",
      "age : 30\n",
      "city : New York\n"
     ]
    }
   ],
   "source": [
    "import json\n",
    "pyObj={\"Name\":\"Soma\",\"Age\":30,\"Sex\":\"Female\"}\n",
    "#Panda to json\n",
    "j=json.dumps(pyObj,indent=4)\n",
    "print(j)\n",
    "\n",
    "x =  '{ \"name\":\"John\", \"age\":30, \"city\":\"New York\"}'\n",
    "p=json.loads(x)\n",
    "print(p)\n",
    "for k in p:\n",
    "    print(k)\n",
    "    print(p[k])\n",
    "for k,v in p.items():\n",
    "    print(k,\":\",v)\n",
    "   \n",
    " "
   ]
  },
  {
   "cell_type": "code",
   "execution_count": 24,
   "id": "18b4a8be",
   "metadata": {},
   "outputs": [
    {
     "name": "stdout",
     "output_type": "stream",
     "text": [
      "20\n",
      "20\n"
     ]
    }
   ],
   "source": [
    "temp =10\n",
    "def hello():\n",
    "    global temp\n",
    "    temp=20\n",
    "    \n",
    "\n",
    "hello()\n",
    "print(temp)\n",
    "\n",
    "print(temp)"
   ]
  },
  {
   "cell_type": "code",
   "execution_count": 28,
   "id": "21899642",
   "metadata": {},
   "outputs": [
    {
     "name": "stdout",
     "output_type": "stream",
     "text": [
      "['apple', 'dog', 'cat', 'banana']\n"
     ]
    }
   ],
   "source": [
    "lt=[\"apple\",\"dog\",\"cat\",\"banana\",\"dog\",\"cat\",\"cat\",\"banana\"]\n",
    "l2=[\"apple\",\"banana\",\"cat\",\"dog\"]\n",
    "result_list = [i for _,i in sorted(zip(lt,l2))]\n",
    "print(result_list)"
   ]
  },
  {
   "cell_type": "code",
   "execution_count": 59,
   "id": "ad3d2ba4",
   "metadata": {},
   "outputs": [
    {
     "name": "stdout",
     "output_type": "stream",
     "text": [
      "['apple', 'banana', 'banana', 'dog', 'dog', 'cat', 'cat', 'cat']\n"
     ]
    }
   ],
   "source": [
    "A = [\"apple\",\"dog\",\"cat\",\"banana\",\"dog\",\"cat\",\"cat\",\"banana\"]\n",
    "B = [\"apple\",\"banana\",\"dog\",\"cat\"]\n",
    "tup=[(x,y) for x in A for y in B] \n",
    "lst= sorted(A,key= lambda x:B.index(x))\n",
    "print(lst)\n",
    "\n"
   ]
  },
  {
   "cell_type": "code",
   "execution_count": 58,
   "id": "1ef1699a",
   "metadata": {},
   "outputs": [
    {
     "name": "stdout",
     "output_type": "stream",
     "text": [
      "cat\n"
     ]
    }
   ],
   "source": [
    "A = [\"apple\",\"dog\",\"cat\",\"banana\",\"dog\",\"cat\",\"cat\",\"banana\"]\n",
    "print(A[-3])"
   ]
  }
 ],
 "metadata": {
  "kernelspec": {
   "display_name": "Python 3 (ipykernel)",
   "language": "python",
   "name": "python3"
  },
  "language_info": {
   "codemirror_mode": {
    "name": "ipython",
    "version": 3
   },
   "file_extension": ".py",
   "mimetype": "text/x-python",
   "name": "python",
   "nbconvert_exporter": "python",
   "pygments_lexer": "ipython3",
   "version": "3.9.7"
  }
 },
 "nbformat": 4,
 "nbformat_minor": 5
}
